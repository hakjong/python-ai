{
 "cells": [
  {
   "cell_type": "markdown",
   "metadata": {},
   "source": [
    "컴퓨터학부 2012105056 손학종"
   ]
  },
  {
   "cell_type": "code",
   "execution_count": 1,
   "metadata": {
    "collapsed": true
   },
   "outputs": [],
   "source": [
    "# 한자 처리를 위한 라이브러리 사용\n",
    "import hanja"
   ]
  },
  {
   "cell_type": "code",
   "execution_count": 2,
   "metadata": {},
   "outputs": [],
   "source": [
    "# 사용하지 않음\n",
    "part = ['/NNG', '/NNP', '/NNB', '/NP', '/NR', '/VV', '/VA', '/VX', '/VCP', '/VCN',\\\n",
    "        '/MM', '/MAG', '/MAJ', '/IC', '/JKS', '/JKC', '/JKG', '/JKO', '/JKB', '/JKV',\\\n",
    "        '/JKQ', '/JX', '/JC', '/EP', '/EF', '/EC', '/ETN', '/ETM', '/XPN', '/XSN', \\\n",
    "        '/XSV', '/XSA', '/XR', '/SF', '/SP', '/SS', '/SE', '/SO', '/SL', '/SH',\\\n",
    "        '/SW', '/NF', '/NV', '/XN', '/NA']"
   ]
  },
  {
   "cell_type": "code",
   "execution_count": 3,
   "metadata": {
    "collapsed": true
   },
   "outputs": [],
   "source": [
    "# 한 글자 짜리 특수문자\n",
    "part_special = ['/SF', '/SP', '/SS', '/SE', '/SO', '/SW']"
   ]
  },
  {
   "cell_type": "markdown",
   "metadata": {},
   "source": [
    "트레이닝 셋에서 데이터를 수집합니다.  \n",
    "좌변, 우변 내용을 그대로 집어넣고,  \n",
    "특수문자는 따로 수집합니다."
   ]
  },
  {
   "cell_type": "code",
   "execution_count": 4,
   "metadata": {},
   "outputs": [
    {
     "name": "stdout",
     "output_type": "stream",
     "text": [
      "start\n",
      "500000\n",
      "1000000\n",
      "1500000\n",
      "2000000\n",
      "done\n"
     ]
    }
   ],
   "source": [
    "# 데이터 수집\n",
    "dic = {}\n",
    "dic_special = {}\n",
    "\n",
    "print('start')\n",
    "count = 0\n",
    "with open('train.txt') as f:\n",
    "    while True:\n",
    "        line = f.readline()\n",
    "        # EOF\n",
    "        if not line:\n",
    "            break\n",
    "        line = line.split()\n",
    "        # 빈줄 처리\n",
    "        if len(line) < 2:\n",
    "            continue\n",
    "        if not line[0] in dic:\n",
    "            dic[line[0]] = line[1]\n",
    "        # 특문 찾기\n",
    "        for s in part_special:\n",
    "            idx = line[1].find(s)\n",
    "            if idx != -1:\n",
    "                ch = line[1][idx-1]\n",
    "                if not ch in dic_special:\n",
    "                    dic_special[ch] = ch + s\n",
    "                break\n",
    "        # 진행상황 출력\n",
    "        count += 1\n",
    "        if count % 500000 == 0:\n",
    "            print(count)\n",
    "print('done')"
   ]
  },
  {
   "cell_type": "markdown",
   "metadata": {},
   "source": [
    "특수문자가 제거된 사전(dic2)을 만듭니다.  \n",
    "위에서 수집한 특수문자가 포함 된 항목을  \n",
    "특수문자 기준 좌, 우로 분해 재귀하여 사전에 추가합니다."
   ]
  },
  {
   "cell_type": "code",
   "execution_count": 5,
   "metadata": {},
   "outputs": [
    {
     "name": "stdout",
     "output_type": "stream",
     "text": [
      "start\n",
      "done\n"
     ]
    }
   ],
   "source": [
    "# 특문 제거해서 추가\n",
    "print('start')\n",
    "dic2 = {} # 특수문자 제거된 사전\n",
    "def special_proc(left, right):\n",
    "    for s in dic_special:\n",
    "        idx = left.find(s)\n",
    "        if idx != -1:\n",
    "            ridx = right.find(s)\n",
    "            new_left = left[:idx]\n",
    "            new_right = right[:ridx - 1]\n",
    "            if len(new_left) != 0:\n",
    "                special_proc(new_left, new_right)\n",
    "            new_left = left[idx + 1:]\n",
    "            new_right = right[ridx + 5:]\n",
    "            if len(new_left) != 0:\n",
    "                special_proc(new_left, new_right)\n",
    "            return\n",
    "            \n",
    "    if not left in dic2:\n",
    "        dic2[left] = right\n",
    "    \n",
    "for d in dic:\n",
    "    special_proc(d, dic[d])\n",
    "\n",
    "\n",
    "print('done')"
   ]
  },
  {
   "cell_type": "markdown",
   "metadata": {},
   "source": [
    "예측을 처리하는 함수의 정의입니다.  \n",
    "사전에 있는 항목은 그대로 출력하고,  \n",
    "없는 경우 특수문자를 찾아 분해하여 재귀합니다.\n",
    "  \n",
    "사전에 없는 경우 9글자부터 1글자까지 다시 쪼개어 탐색하고  \n",
    "그래도 못 찾은 경우 한자어인지 확인한 후  \n",
    "마지막으로 남은 단어를 NA로 태깅합니다."
   ]
  },
  {
   "cell_type": "code",
   "execution_count": 6,
   "metadata": {},
   "outputs": [],
   "source": [
    "def predict(line, dic):\n",
    "    # 사전에 동일한 것이 있으면 그대로 출력\n",
    "    if line in dic:\n",
    "        return dic[line]\n",
    "    else:\n",
    "        # 특문 찾기\n",
    "        for s in dic_special:\n",
    "            idx = line.find(s)\n",
    "            if idx != -1:\n",
    "                result = ''\n",
    "                if len(line[:idx]) != 0:\n",
    "                    result += predict(line[:idx], dic2) + '+'\n",
    "                result += dic_special[line[idx]]\n",
    "                if len(line[idx + 1:]) != 0:\n",
    "                    result += '+' + predict(line[idx + 1:], dic2)\n",
    "                return result\n",
    "            \n",
    "        # 분할하여 탐색\n",
    "        for charlen in reversed(range(1, 10)):\n",
    "            for idx in range(len(line) - charlen + 1):\n",
    "                s = line[idx:idx + charlen]\n",
    "                if s in dic2:\n",
    "                    result = ''\n",
    "                    if len(line[:idx]) != 0:\n",
    "                        result += predict(line[:idx], dic2) + '+'\n",
    "                    result += dic2[s]\n",
    "                    if len(line[idx + charlen:]) != 0:\n",
    "                        result += '+' + predict(line[idx + charlen:], dic2)\n",
    "                    return result\n",
    "        # 한자어?\n",
    "        if hanja.is_hanja(line[0]):\n",
    "            return line + '/SH'\n",
    "        \n",
    "        return line + '/NA'\n"
   ]
  },
  {
   "cell_type": "markdown",
   "metadata": {},
   "source": [
    "임의로 평가 시 84.3769% 의 정확도가 나왔습니다.  \n",
    "(dictionary 의 iteration 이 있기 때문에 매번 실행 시 다소 차이가 있습니다.)"
   ]
  },
  {
   "cell_type": "code",
   "execution_count": 7,
   "metadata": {},
   "outputs": [
    {
     "name": "stdout",
     "output_type": "stream",
     "text": [
      "start\n",
      "100000\n",
      "200000\n",
      "300000\n",
      "84.06976609137999\n"
     ]
    }
   ],
   "source": [
    "# 평가\n",
    "print('start')\n",
    "count = 0\n",
    "correct = 0\n",
    "with open('test.txt') as f:\n",
    "    while True:\n",
    "        line = f.readline()\n",
    "        # EOF\n",
    "        if not line:\n",
    "            break\n",
    "        line = line.split()\n",
    "        # 빈 줄 처리\n",
    "        if len(line) < 2:\n",
    "            continue\n",
    "        count += 1\n",
    "        if line[1] == predict(line[0], dic):\n",
    "            correct += 1\n",
    "        else:\n",
    "            # 틀린거 확인\n",
    "            # print(line[1] + '\\n' + predict(line[0], dic) + '\\n')\n",
    "            None\n",
    "        # 진행상황 출력\n",
    "        if count % 100000 == 0:\n",
    "            print(count)\n",
    "            \n",
    "print(correct/count * 100)"
   ]
  }
 ],
 "metadata": {
  "kernelspec": {
   "display_name": "Python 3",
   "language": "python",
   "name": "python3"
  },
  "language_info": {
   "codemirror_mode": {
    "name": "ipython",
    "version": 3
   },
   "file_extension": ".py",
   "mimetype": "text/x-python",
   "name": "python",
   "nbconvert_exporter": "python",
   "pygments_lexer": "ipython3",
   "version": "3.5.2"
  }
 },
 "nbformat": 4,
 "nbformat_minor": 2
}
